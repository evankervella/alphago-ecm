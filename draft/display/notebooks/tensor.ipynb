{
 "cells": [
  {
   "cell_type": "code",
   "execution_count": 1,
   "metadata": {
    "collapsed": false,
    "jupyter": {
     "outputs_hidden": false
    }
   },
   "outputs": [],
   "source": [
    "from sgf_to_states import sgf_to_states\n",
    "from go import View"
   ]
  },
  {
   "cell_type": "code",
   "execution_count": 50,
   "metadata": {
    "collapsed": false,
    "jupyter": {
     "outputs_hidden": false
    }
   },
   "outputs": [],
   "source": [
    "file_name = \"../data/Mi_Yuting-Park_Junghwan.sgf\"\n",
    "size_board = 19\n",
    "list = sgf_to_states(file_name, size_board)"
   ]
  },
  {
   "cell_type": "code",
   "execution_count": 1,
   "metadata": {},
   "outputs": [],
   "source": [
    "def vis_layer(layer,num_layer):\n",
    "    \"\"\"Visualization of a layer\n",
    "    \"\"\"\n",
    "    x = 0\n",
    "    size = len(layer[num_layer, :, :])\n",
    "    while x < size:\n",
    "        string = \"\"\n",
    "        y = 0\n",
    "        while y < size:\n",
    "            if layer[num_layer, y, x] == 1:\n",
    "                string = string + \" 1\"    \n",
    "            else:\n",
    "                string = string + \" .\"\n",
    "            y += 1\n",
    "        print(string)\n",
    "        x += 1"
   ]
  },
  {
   "cell_type": "markdown",
   "metadata": {},
   "source": [
    "![title](img/Capture.JPG)"
   ]
  },
  {
   "cell_type": "code",
   "execution_count": 52,
   "metadata": {
    "collapsed": false,
    "jupyter": {
     "outputs_hidden": false
    }
   },
   "outputs": [
    {
     "name": "stdout",
     "output_type": "stream",
     "text": [
      "19\n"
     ]
    }
   ],
   "source": [
    "print(liste[0]._width)"
   ]
  },
  {
   "cell_type": "code",
   "execution_count": 53,
   "metadata": {
    "collapsed": true,
    "jupyter": {
     "outputs_hidden": true
    }
   },
   "outputs": [],
   "source": [
    "def get_stonecolour(state):\n",
    "    size = state._width\n",
    "    planes = np.zeros((3, size, size))\n",
    "    x = 0\n",
    "    while x < size:\n",
    "        y = 0\n",
    "        while y < size:\n",
    "            case=repr(state[x+1,y+1])\n",
    "            if cell=='Black':\n",
    "                planes[0, x, y] = 1 \n",
    "            if cell=='White':\n",
    "                planes[1, x, y] = 1 \n",
    "            if cell=='Empty':\n",
    "                planes[2, x, y] = 1 \n",
    "            y += 1\n",
    "        x += 1\n",
    "    return planes"
   ]
  },
  {
   "cell_type": "code",
   "execution_count": 54,
   "metadata": {
    "collapsed": true,
    "jupyter": {
     "outputs_hidden": true
    }
   },
   "outputs": [
    {
     "name": "stdout",
     "output_type": "stream",
     "text": [
      "X . . . . . . . . . . . . . . . . . .\n",
      ". . . . . . . . * * * . . * . . . . .\n",
      ". . . o . . . * . * o * * o o . o . .\n",
      ". . o o * . . . * o o o . . . * o . .\n",
      ". . * . o . . . o . . . . . o o * * .\n",
      ". * . * o . . . . . . . . . . * o * .\n",
      ". . o * o . . . . . . . . . . . . . .\n",
      ". * * o . . . . . . . . . . . . * . .\n",
      ". * o o . . . . . . . . . . . . . . .\n",
      ". . * * . . . . . + . . . . . + o . .\n",
      ". o . . . . . . . . . . . . . . . . .\n",
      ". . . . . . . . . . . . . . . . . . .\n",
      ". . . . . . . . . . . . . . . . o . .\n",
      ". . o . . . . . . . . . . . . . . . .\n",
      ". . . . . . . . . . . . . . . . . . .\n",
      ". . o o . . . . . + . . . . . + * . .\n",
      ". . * . . . . . . . . . . * . . . . .\n",
      ". * . * . o . . . . . . . . . . . . .\n",
      ". . . . . . . . . . . . . . . . . . .\n",
      "\n",
      " . . . . . . . . . . . . . . . . . . .\n",
      " . . . . . . . . 1 1 1 . . 1 . . . . .\n",
      " . . . . . . . 1 . 1 . 1 1 . . . . . .\n",
      " . . . . 1 . . . 1 . . . . . . 1 . . .\n",
      " . . 1 . . . . . . . . . . . . . 1 1 .\n",
      " . 1 . 1 . . . . . . . . . . . 1 . 1 .\n",
      " . . . 1 . . . . . . . . . . . . . . .\n",
      " . 1 1 . . . . . . . . . . . . . 1 . .\n",
      " . 1 . . . . . . . . . . . . . . . . .\n",
      " . . 1 1 . . . . . . . . . . . . . . .\n",
      " . . . . . . . . . . . . . . . . . . .\n",
      " . . . . . . . . . . . . . . . . . . .\n",
      " . . . . . . . . . . . . . . . . . . .\n",
      " . . . . . . . . . . . . . . . . . . .\n",
      " . . . . . . . . . . . . . . . . . . .\n",
      " . . . . . . . . . . . . . . . . 1 . .\n",
      " . . 1 . . . . . . . . . . 1 . . . . .\n",
      " . 1 . 1 . . . . . . . . . . . . . . .\n",
      " . . . . . . . . . . . . . . . . . . .\n",
      "\n",
      " . . . . . . . . . . . . . . . . . . .\n",
      " . . . . . . . . . . . . . . . . . . .\n",
      " . . . 1 . . . . . . 1 . . 1 1 . 1 . .\n",
      " . . 1 1 . . . . . 1 1 1 . . . . 1 . .\n",
      " . . . . 1 . . . 1 . . . . . 1 1 . . .\n",
      " . . . . 1 . . . . . . . . . . . 1 . .\n",
      " . . 1 . 1 . . . . . . . . . . . . . .\n",
      " . . . 1 . . . . . . . . . . . . . . .\n",
      " . . 1 1 . . . . . . . . . . . . . . .\n",
      " . . . . . . . . . . . . . . . . 1 . .\n",
      " . 1 . . . . . . . . . . . . . . . . .\n",
      " . . . . . . . . . . . . . . . . . . .\n",
      " . . . . . . . . . . . . . . . . 1 . .\n",
      " . . 1 . . . . . . . . . . . . . . . .\n",
      " . . . . . . . . . . . . . . . . . . .\n",
      " . . 1 1 . . . . . . . . . . . . . . .\n",
      " . . . . . . . . . . . . . . . . . . .\n",
      " . . . . . 1 . . . . . . . . . . . . .\n",
      " . . . . . . . . . . . . . . . . . . .\n",
      "\n",
      " 1 1 1 1 1 1 1 1 1 1 1 1 1 1 1 1 1 1 1\n",
      " 1 1 1 1 1 1 1 1 . . . 1 1 . 1 1 1 1 1\n",
      " 1 1 1 . 1 1 1 . 1 . . . . . . 1 . 1 1\n",
      " 1 1 . . . 1 1 1 . . . . 1 1 1 . . 1 1\n",
      " 1 1 . 1 . 1 1 1 . 1 1 1 1 1 . . . . 1\n",
      " 1 . 1 . . 1 1 1 1 1 1 1 1 1 1 . . . 1\n",
      " 1 1 . . . 1 1 1 1 1 1 1 1 1 1 1 1 1 1\n",
      " 1 . . . 1 1 1 1 1 1 1 1 1 1 1 1 . 1 1\n",
      " 1 . . . 1 1 1 1 1 1 1 1 1 1 1 1 1 1 1\n",
      " 1 1 . . 1 1 1 1 1 1 1 1 1 1 1 1 . 1 1\n",
      " 1 . 1 1 1 1 1 1 1 1 1 1 1 1 1 1 1 1 1\n",
      " 1 1 1 1 1 1 1 1 1 1 1 1 1 1 1 1 1 1 1\n",
      " 1 1 1 1 1 1 1 1 1 1 1 1 1 1 1 1 . 1 1\n",
      " 1 1 . 1 1 1 1 1 1 1 1 1 1 1 1 1 1 1 1\n",
      " 1 1 1 1 1 1 1 1 1 1 1 1 1 1 1 1 1 1 1\n",
      " 1 1 . . 1 1 1 1 1 1 1 1 1 1 1 1 . 1 1\n",
      " 1 1 . 1 1 1 1 1 1 1 1 1 1 . 1 1 1 1 1\n",
      " 1 . 1 . 1 . 1 1 1 1 1 1 1 1 1 1 1 1 1\n",
      " 1 1 1 1 1 1 1 1 1 1 1 1 1 1 1 1 1 1 1\n"
     ]
    }
   ],
   "source": [
    "# stone colour\n",
    "tensor_move_60 = get_stonecolour(liste[60])\n",
    "print(View(liste[60]))\n",
    "print(vis_layer(tensor_move_60, 0))\n",
    "print(vis_layer(tensor_move_60, 1))\n",
    "print(vis_layer(tensor_move_60, 2))"
   ]
  },
  {
   "cell_type": "code",
   "execution_count": 55,
   "metadata": {
    "collapsed": false,
    "jupyter": {
     "outputs_hidden": false
    }
   },
   "outputs": [
    {
     "data": {
      "text/plain": [
       "(4L, 19L, 19L)"
      ]
     },
     "execution_count": 55,
     "metadata": {},
     "output_type": "execute_result"
    }
   ],
   "source": [
    "# ones\n",
    "ones = np.ones((1, size, size))\n",
    "# add ones to the first tensor\n",
    "tensor_move_60 = np.concatenate([tensor_move_60, ones], axis=0)\n",
    "tensor_move_60.shape"
   ]
  },
  {
   "cell_type": "code",
   "execution_count": 85,
   "metadata": {
    "collapsed": true,
    "jupyter": {
     "outputs_hidden": true
    }
   },
   "outputs": [],
   "source": [
    "def get_liberties(state):\n",
    "    size = state._width\n",
    "    planes = np.zeros((8, taille,taille))\n",
    "    for x,y in state._legal:\n",
    "        n_liberties = state.count_liberties(x,y)\n",
    "        if n_liberties > 8:\n",
    "            n_liberties = 8\n",
    "        if not n_liberties==0:\n",
    "            planes[n_liberties-1, x, y] = 1\n",
    "    return planes"
   ]
  },
  {
   "cell_type": "code",
   "execution_count": 86,
   "metadata": {
    "collapsed": true,
    "jupyter": {
     "outputs_hidden": true
    }
   },
   "outputs": [
    {
     "name": "stdout",
     "output_type": "stream",
     "text": [
      "X . . . . . . . . . . . . . . . . . .\n",
      ". . . . . . . . * * * . . * . . . . .\n",
      ". . . o . . . * . * o * * o o . o . .\n",
      ". . o o * . . . * o o o . . . * o . .\n",
      ". . * . o . . . o . . . . . o o * * .\n",
      ". * . * o . . . . . . . . . . * o * .\n",
      ". . o * o . . . . . . . . . . . . . .\n",
      ". * * o . . . . . . . . . . . . * . .\n",
      ". * o o . . . . . . . . . . . . . . .\n",
      ". . * * . . . . . + . . . . . + o . .\n",
      ". o . . . . . . . . . . . . . . . . .\n",
      ". . . . . . . . . . . . . . . . . . .\n",
      ". . . . . . . . . . . . . . . . o . .\n",
      ". . o . . . . . . . . . . . . . . . .\n",
      ". . . . . . . . . . . . . . . . . . .\n",
      ". . o o . . . . . + . . . . . + * . .\n",
      ". . * . . . . . . . . . . * . . . . .\n",
      ". * . * . o . . . . . . . . . . . . .\n",
      ". . . . . . . . . . . . . . . . . . .\n",
      "\n",
      " . . . . . . . . . . . . . . . . . . .\n",
      " . . . . . . . . . . . . . . . . . . .\n",
      " . . . . . . . . 1 . . . . . . . . . .\n",
      " . . . . . . . . . . . . . . . . . . .\n",
      " . . . . . . . . . . . . . . . . . . .\n",
      " . . . . . . . . . . . . . . . . 1 . .\n",
      " . . . . . . . . . . . . . . . . . . .\n",
      " . . . . . . . . . . . . . . . . . . .\n",
      " . . . . . . . . . . . . . . . . . . .\n",
      " . . . . . . . . . . . . . . . . . . .\n",
      " . . . . . . . . . . . . . . . . . . .\n",
      " . . . . . . . . . . . . . . . . . . .\n",
      " . . . . . . . . . . . . . . . . . . .\n",
      " . . . . . . . . . . . . . . . . . . .\n",
      " . . . . . . . . . . . . . . . . . . .\n",
      " . . . . . . . . . . . . . . . . . . .\n",
      " . . . . . . . . . . . . . . . . . . .\n",
      " . . . . . . . . . . . . . . . . . . .\n",
      " . . . . . . . . . . . . . . . . . . .\n",
      "\n",
      " . . . . . . . . . . . . . . . . . . .\n",
      " . . . . . . . . . . . . . . . . . . .\n",
      " . . . . . . . . . . . . . . . . . . .\n",
      " . . . . 1 . . . 1 . . . . . . 1 . . .\n",
      " . . . . . . . . . . . . . . . . . . .\n",
      " . . . 1 . . . . . . . . . . . 1 . . .\n",
      " . . 1 1 . . . . . . . . . . . . . . .\n",
      " . . . 1 . . . . . . . . . . . . . . .\n",
      " . . 1 1 . . . . . . . . . . . . . . .\n",
      " . . . . . . . . . . . . . . . . . . .\n",
      " . . . . . . . . . . . . . . . . . . .\n",
      " . . . . . . . . . . . . . . . . . . .\n",
      " . . . . . . . . . . . . . . . . . . .\n",
      " . . . . . . . . . . . . . . . . . . .\n",
      " . . . . . . . . . . . . . . . . . . .\n",
      " . . . . . . . . . . . . . . . . . . .\n",
      " . . . . . . . . . . . . . . . . . . .\n",
      " . . . . . . . . . . . . . . . . . . .\n",
      " . . . . . . . . . . . . . . . . . . .\n",
      "\n",
      " . . . . . . . . . . . . . . . . . . .\n",
      " . . . . . . . . . . . . . 1 . . . . .\n",
      " . . . . . . . . . . . 1 1 . . . . . .\n",
      " . . . . . . . . . . . . . . . . . . .\n",
      " . . 1 . . . . . 1 . . . . . 1 1 . . .\n",
      " . . . . . . . . . . . . . . . . . . .\n",
      " . . . . . . . . . . . . . . . . . . .\n",
      " . . . . . . . . . . . . . . . . . . .\n",
      " . . . . . . . . . . . . . . . . . . .\n",
      " . . . . . . . . . . . . . . . . . . .\n",
      " . . . . . . . . . . . . . . . . . . .\n",
      " . . . . . . . . . . . . . . . . . . .\n",
      " . . . . . . . . . . . . . . . . . . .\n",
      " . . . . . . . . . . . . . . . . . . .\n",
      " . . . . . . . . . . . . . . . . . . .\n",
      " . . . . . . . . . . . . . . . . . . .\n",
      " . . 1 . . . . . . . . . . . . . . . .\n",
      " . . . . . . . . . . . . . . . . . . .\n",
      " . . . . . . . . . . . . . . . . . . .\n"
     ]
    }
   ],
   "source": [
    "liberties = get_liberties(liste[60])\n",
    "print(View(liste[60]))\n",
    "print(vis_layer(liberties, 0))\n",
    "print(vis_layer(liberties, 1))\n",
    "print(vis_layer(liberties, 2))"
   ]
  },
  {
   "cell_type": "code",
   "execution_count": 58,
   "metadata": {
    "collapsed": false,
    "jupyter": {
     "outputs_hidden": false
    }
   },
   "outputs": [
    {
     "data": {
      "text/plain": [
       "(12L, 19L, 19L)"
      ]
     },
     "execution_count": 58,
     "metadata": {},
     "output_type": "execute_result"
    }
   ],
   "source": [
    "# add liberties to the first tensor\n",
    "tensor_move_60 = np.concatenate([tensor_move_60, liberties], axis=0)\n",
    "tensor_move_60.shape"
   ]
  },
  {
   "cell_type": "code",
   "execution_count": 59,
   "metadata": {},
   "outputs": [],
   "source": [
    "def get_history(state):\n",
    "    \"\"\"Doesn't exactly represents the history of the game\n",
    "    but the last changement of colour of a cell\n",
    "    \"\"\"\n",
    "    size = state._width\n",
    "    planes = np.zeros((8, size, size))\n",
    "    for x,y in state._legal:\n",
    "        i = 1\n",
    "        cell = repr(state[x, y])\n",
    "        while i < 8: \n",
    "            hist = state._history[-i][0]\n",
    "            celle_hist = repr(hist[x][y])\n",
    "            if not (cell==hist or cell==\"Empty\"):\n",
    "                planes[i-1, x, y] = 1\n",
    "                i = 9                                    \n",
    "            i += 1\n",
    "        if (case != \"Empty\" and i==8):\n",
    "            planes[7, x, y]=1\n",
    "    return planes"
   ]
  },
  {
   "cell_type": "code",
   "execution_count": 61,
   "metadata": {
    "scrolled": true
   },
   "outputs": [
    {
     "name": "stdout",
     "output_type": "stream",
     "text": [
      "X . . . . . . . . . . . . . . . . . .\n",
      ". . . . . . . . * * * . . * . . . . .\n",
      ". . . o . . . * . * o * * o o . o . .\n",
      ". . o o * . . . * o o o . . . * o . .\n",
      ". . * . o . . . o . . . . . o o * * .\n",
      ". * . * o . . . . . . . . . . * o * .\n",
      ". . o * o . . . . . . . . . . . . . .\n",
      ". * * o . . . . . . . . . . . . * . .\n",
      ". * o o . . . . . . . . . . . . . . .\n",
      ". . * * . . . . . + . . . . . + o . .\n",
      ". o . . . . . . . . . . . . . . . . .\n",
      ". . . . . . . . . . . . . . . . . . .\n",
      ". . . . . . . . . . . . . . . . o . .\n",
      ". . o . . . . . . . . . . . . . . . .\n",
      ". . . . . . . . . . . . . . . . . . .\n",
      ". . o o . . . . . + . . . . . + * . .\n",
      ". . * . . . . . . . . . . * . . . . .\n",
      ". * . * . o . . . . . . . . . . . . .\n",
      ". . . . . . . . . . . . . . . . . . .\n",
      "\n",
      " . . . . . . . . . . . . . . . . . . .\n",
      " . . . . . . . . . . . . . . . . . . .\n",
      " . . . . . . . . . 1 1 1 . . 1 . . . .\n",
      " . . . . 1 . . . 1 . 1 1 1 1 1 1 . 1 .\n",
      " . . . 1 1 1 . . . 1 1 1 1 . . . 1 1 .\n",
      " . . . 1 . 1 . . . 1 . . . . . 1 1 1 1\n",
      " . . 1 . 1 1 . . . . . . . . . . 1 1 1\n",
      " . . . 1 1 1 . . . . . . . . . . . . .\n",
      " . . 1 1 1 . . . . . . . . . . . . 1 .\n",
      " . . 1 1 1 . . . . . . . . . . . . . .\n",
      " . . . 1 1 . . . . . . . . . . . . 1 .\n",
      " . . 1 . . . . . . . . . . . . . . . .\n",
      " . . . . . . . . . . . . . . . . . . .\n",
      " . . . . . . . . . . . . . . . . . 1 .\n",
      " . . . 1 . . . . . . . . . . . . . . .\n",
      " . . . . . . . . . . . . . . . . . . .\n",
      " . . . 1 1 . . . . . . . . . . . . 1 .\n",
      " . . . 1 . . . . . . . . . . 1 . . . .\n",
      " . . 1 . 1 . 1 . . . . . . . . . . . .\n",
      "\n",
      " . . . . . . . . . . . . . . . . . . .\n",
      " . . . . . . . . . . . . . . . . . . .\n",
      " . . . . . . . . . . . . . . . . . . .\n",
      " . . . . . . . . . . . . . . . . . . .\n",
      " . . . . . . . . . . . . . . . . . . .\n",
      " . . . . . . . . . . . . . . . . . . .\n",
      " . . . . . . . . . . . . . . . . . . .\n",
      " . . . . . . . . . . . . . . . . . . .\n",
      " . . . . . . . . . . . . . . . . . . .\n",
      " . . . . . . . . . . . . . . . . . . .\n",
      " . . . . . . . . . . . . . . . . . . .\n",
      " . . . . . . . . . . . . . . . . . . .\n",
      " . . . . . . . . . . . . . . . . . . .\n",
      " . . . . . . . . . . . . . . . . . . .\n",
      " . . . . . . . . . . . . . . . . . . .\n",
      " . . . . . . . . . . . . . . . . . . .\n",
      " . . . . . . . . . . . . . . . . . . .\n",
      " . . . . . . . . . . . . . . . . . . .\n",
      " . . . . . . . . . . . . . . . . . . .\n",
      "\n",
      " . . . . . . . . . . . . . . . . . . .\n",
      " . . . . . . . . . . . . . . . . . . .\n",
      " . . . . . . . . . . . . . . . . . . .\n",
      " . . . . . . . . . . . . . . . . . . .\n",
      " . . . . . . . . . . . . . . . . . . .\n",
      " . . . . . . . . . . . . . . . . . . .\n",
      " . . . . . . . . . . . . . . . . . . .\n",
      " . . . . . . . . . . . . . . . . . . .\n",
      " . . . . . . . . . . . . . . . . . . .\n",
      " . . . . . . . . . . . . . . . . . . .\n",
      " . . . . . . . . . . . . . . . . . . .\n",
      " . . . . . . . . . . . . . . . . . . .\n",
      " . . . . . . . . . . . . . . . . . . .\n",
      " . . . . . . . . . . . . . . . . . . .\n",
      " . . . . . . . . . . . . . . . . . . .\n",
      " . . . . . . . . . . . . . . . . . . .\n",
      " . . . . . . . . . . . . . . . . . . .\n",
      " . . . . . . . . . . . . . . . . . . .\n",
      " . . . . . . . . . . . . . . . . . . .\n"
     ]
    }
   ],
   "source": [
    "history = get_history(liste[60])\n",
    "print(View(liste[60]))\n",
    "print(vis_layer(history, 0))\n",
    "print(vis_layer(history, 1))\n",
    "print(vis_layer(history, 2))"
   ]
  },
  {
   "cell_type": "code",
   "execution_count": 62,
   "metadata": {
    "collapsed": false,
    "jupyter": {
     "outputs_hidden": false
    }
   },
   "outputs": [
    {
     "data": {
      "text/plain": [
       "(20L, 19L, 19L)"
      ]
     },
     "execution_count": 62,
     "metadata": {},
     "output_type": "execute_result"
    }
   ],
   "source": [
    "tensor_move_60 = np.concatenate([tensor_move_60, history], axis=0)\n",
    "tensor_move_60.shape"
   ]
  },
  {
   "cell_type": "code",
   "execution_count": 63,
   "metadata": {
    "collapsed": true,
    "jupyter": {
     "outputs_hidden": true
    }
   },
   "outputs": [],
   "source": [
    "def get_captured(state):\n",
    "    size = state._width\n",
    "    planes = np.zeros((8, size, size))\n",
    "    for x,y in state._legal:\n",
    "        state_copy = state\n",
    "        n_captured = state_copy._take_pieces(x, y)\n",
    "        if n_captured > 8:\n",
    "            n_captured = 8\n",
    "        if n_captured != 0:\n",
    "            planes[n_captured-1, x, y]=1\n",
    "    return planes"
   ]
  },
  {
   "cell_type": "code",
   "execution_count": 65,
   "metadata": {
    "collapsed": true,
    "jupyter": {
     "outputs_hidden": true
    },
    "scrolled": true
   },
   "outputs": [
    {
     "name": "stdout",
     "output_type": "stream",
     "text": [
      "X . . . . . . . . . . . . . . . . . .\n",
      ". . . . . . . . * * * . . * . . . . .\n",
      ". . . o . . . * . * o * * o o . o . .\n",
      ". . o o * . . . * o o o . . . * o . .\n",
      ". . * . o . . . o . . . . . o o * * .\n",
      ". * . * o . . . . . . . . . . * o * .\n",
      ". . o * o . . . . . . . . . . . . . .\n",
      ". * * o . . . . . . . . . . . . * . .\n",
      ". * o o . . . . . . . . . . . . . . .\n",
      ". . * * . . . . . + . . . . . + o . .\n",
      ". o . . . . . . . . . . . . . . . . .\n",
      ". . . . . . . . . . . . . . . . . . .\n",
      ". . . . . . . . . . . . . . . . o . .\n",
      ". . o . . . . . . . . . . . . . . . .\n",
      ". . . . . . . . . . . . . . . . . . .\n",
      ". . o o . . . . . + . . . . . + * . .\n",
      ". . * . . . . . . . . . . * . . . . .\n",
      ". * . * . o . . . . . . . . . . . . .\n",
      ". . . . . . . . . . . . . . . . . . .\n",
      "\n",
      " . . . . . . . . . . . . . . . . . . .\n",
      " . . . . . . . . . . . . . . . . . . .\n",
      " . . . . . . . . . . . . . . . . . . .\n",
      " . . . . . . . . . . . . . . . . . . .\n",
      " . . . . . . . . . . . . . . . . . . .\n",
      " . . . . . . . . . . . . . . . . . . .\n",
      " . . . . . . . . . . . . . . . . . . .\n",
      " . . . . . . . . . . . . . . . . . . .\n",
      " . . . . . . . . . . . . . . . . . . .\n",
      " . . . . . . . . . . . . . . . . . . .\n",
      " . . . . . . . . . . . . . . . . . . .\n",
      " . . . . . . . . . . . . . . . . . . .\n",
      " . . . . . . . . . . . . . . . . . . .\n",
      " . . . . . . . . . . . . . . . . . . .\n",
      " . . . . . . . . . . . . . . . . . . .\n",
      " . . . . . . . . . . . . . . . . . . .\n",
      " . . . . . . . . . . . . . . . . . . .\n",
      " . . . . . . . . . . . . . . . . . . .\n",
      " . . . . . . . . . . . . . . . . . . .\n",
      "\n",
      " . . . . . . . . . . . . . . . . . . .\n",
      " . . . . . . . . . . . . . . . . . . .\n",
      " . . . . . . . . . . . . . . . . . . .\n",
      " . . . . . . . . . . . . . . . . . . .\n",
      " . . . . . . . . . . . . . . . . . . .\n",
      " . . . . . . . . . . . . . . . . . . .\n",
      " . . . . . . . . . . . . . . . . . . .\n",
      " . . . . . . . . . . . . . . . . . . .\n",
      " . . . . . . . . . . . . . . . . . . .\n",
      " . . . . . . . . . . . . . . . . . . .\n",
      " . . . . . . . . . . . . . . . . . . .\n",
      " . . . . . . . . . . . . . . . . . . .\n",
      " . . . . . . . . . . . . . . . . . . .\n",
      " . . . . . . . . . . . . . . . . . . .\n",
      " . . . . . . . . . . . . . . . . . . .\n",
      " . . . . . . . . . . . . . . . . . . .\n",
      " . . . . . . . . . . . . . . . . . . .\n",
      " . . . . . . . . . . . . . . . . . . .\n",
      " . . . . . . . . . . . . . . . . . . .\n",
      "\n",
      " . . . . . . . . . . . . . . . . . . .\n",
      " . . . . . . . . . . . . . . . . . . .\n",
      " . . . . . . . . . . . . . . . . . . .\n",
      " . . . . . . . . . . . . . . . . . . .\n",
      " . . . . . . . . . . . . . . . . . . .\n",
      " . . . . . . . . . . . . . . . . . . .\n",
      " . . . . . . . . . . . . . . . . . . .\n",
      " . . . . . . . . . . . . . . . . . . .\n",
      " . . . . . . . . . . . . . . . . . . .\n",
      " . . . . . . . . . . . . . . . . . . .\n",
      " . . . . . . . . . . . . . . . . . . .\n",
      " . . . . . . . . . . . . . . . . . . .\n",
      " . . . . . . . . . . . . . . . . . . .\n",
      " . . . . . . . . . . . . . . . . . . .\n",
      " . . . . . . . . . . . . . . . . . . .\n",
      " . . . . . . . . . . . . . . . . . . .\n",
      " . . . . . . . . . . . . . . . . . . .\n",
      " . . . . . . . . . . . . . . . . . . .\n",
      " . . . . . . . . . . . . . . . . . . .\n"
     ]
    }
   ],
   "source": [
    "captured = get_captured(liste[60])\n",
    "print(View(liste[60]))\n",
    "print(vis_layer(captured, 0))\n",
    "print(vis_layer(captured, 1))\n",
    "print(vis_layer(captured, 2))"
   ]
  },
  {
   "cell_type": "code",
   "execution_count": 66,
   "metadata": {
    "collapsed": false,
    "jupyter": {
     "outputs_hidden": false
    }
   },
   "outputs": [
    {
     "data": {
      "text/plain": [
       "(28L, 19L, 19L)"
      ]
     },
     "execution_count": 66,
     "metadata": {},
     "output_type": "execute_result"
    }
   ],
   "source": [
    "tensor_move_60 = np.concatenate([tensor_move_60, captured], axis=0)\n",
    "tensor_move_60.shape"
   ]
  },
  {
   "cell_type": "code",
   "execution_count": 87,
   "metadata": {
    "collapsed": true,
    "jupyter": {
     "outputs_hidden": true
    }
   },
   "outputs": [],
   "source": [
    "def get_liberties_after(state_after):\n",
    "    planes = get_liberties(state_after)\n",
    "    return planes"
   ]
  },
  {
   "cell_type": "code",
   "execution_count": 88,
   "metadata": {
    "collapsed": true,
    "jupyter": {
     "outputs_hidden": true
    }
   },
   "outputs": [
    {
     "name": "stdout",
     "output_type": "stream",
     "text": [
      "X . . . . . . . . . . . . . . . . . .\n",
      ". . . . . . . . * * * . . * . . . . .\n",
      ". . . o . . . * . * o * * o o . o . .\n",
      ". . o o * . . . * o o o . . . * o . .\n",
      ". . * . o . . . o . . . . . o o * * .\n",
      ". * . * o . . . . . . . . . . * o * .\n",
      ". . o * o . . . . . . . . . . . . . .\n",
      ". * * o . . . . . . . . . . . . * . .\n",
      ". * o o . . . . . . . . . . . . . . .\n",
      ". . * * . . . . . + . . . . . + o . .\n",
      ". o . . . . . . . . . . . . . . . . .\n",
      ". . . . . . . . . . . . . . . . . . .\n",
      ". . . . . . . . . . . . . . . . o . .\n",
      ". . o . . . . . . . . . . . . . . . .\n",
      ". . . . . . . . . . . . . . . . . . .\n",
      ". . o o . . . . . + . . . . . + * . .\n",
      ". . * . . . . . . . . . . * . . . . .\n",
      ". * . * . o . . . . . . . . . . . . .\n",
      ". . . . . . . . . . . . . . . . . . .\n",
      "\n",
      " . . . . . . . . . . . . . . . . . . .\n",
      " . . . . . . . . . . . . . . . . . . .\n",
      " . . . . . . . . 1 . . . . . . . . . .\n",
      " . . . . . . . . . . . . . . . . . . .\n",
      " . . . . . . . . . . . . . . . . . . .\n",
      " . . . . . . . . . . . . . . . . 1 . .\n",
      " . . . . . . . . . . . . . . . . . . .\n",
      " . . . . . . . . . . . . . . . . . . .\n",
      " . . . . . . . . . . . . . . . . . . .\n",
      " . . . . . . . . . . . . . . . . . . .\n",
      " . . . . . . . . . . . . . . . . . . .\n",
      " . . . . . . . . . . . . . . . . . . .\n",
      " . . . . . . . . . . . . . . . . . . .\n",
      " . . . . . . . . . . . . . . . . . . .\n",
      " . . . . . . . . . . . . . . . . . . .\n",
      " . . . . . . . . . . . . . . . . . . .\n",
      " . . . . . . . . . . . . . . . . . . .\n",
      " . . . . . . . . . . . . . . . . . . .\n",
      " . . . . . . . . . . . . . . . . . . .\n",
      "\n",
      " . . . . . . . . . . . . . . . . . . .\n",
      " . . . . . . . . . . . . . . . . . . .\n",
      " . . . . . . . . . . . . . . . . . . .\n",
      " . . . . 1 . . . 1 . . . . . . 1 . . .\n",
      " . . . . . . . . . . . . . . . . . . .\n",
      " . . . 1 . . . . . . . . . . . 1 . . .\n",
      " . . 1 1 . . . . . . . . . . . . . . .\n",
      " . . . 1 . . . . . . . . . . . . . . .\n",
      " . . 1 1 . . . . . . . . . . . . . . .\n",
      " . . . . . . . . . . . . . . . . . . .\n",
      " . . . . . . . . . . . . . . . . . . .\n",
      " . . . . . . . . . . . . . . . . . . .\n",
      " . . . . . . . . . . . . . . . . . . .\n",
      " . . . . . . . . . . . . . . . . . . .\n",
      " . . . . . . . . . . . . . . . . . . .\n",
      " . . . . . . . . . . . . . . . . . . .\n",
      " . . . . . . . . . . . . . . . . . . .\n",
      " . . . . . . . . . . . . . . . . . . .\n",
      " . . . . . . . . . . . . . . . . . . .\n",
      "\n",
      " . . . . . . . . . . . . . . . . . . .\n",
      " . . . . . . . . . . . . . 1 . . . . .\n",
      " . . . . . . . . . . . 1 1 . . . . . .\n",
      " . . . . . . . . . . . . . . . . . . .\n",
      " . . 1 . . . . . 1 . . . . . 1 1 . . .\n",
      " . . . . . . . . . . . . . . . . . . .\n",
      " . . . . . . . . . . . . . . . . . . .\n",
      " . . . . . . . . . . . . . . . . . . .\n",
      " . . . . . . . . . . . . . . . . . . .\n",
      " . . . . . . . . . . . . . . . . . . .\n",
      " . . . . . . . . . . . . . . . . . . .\n",
      " . . . . . . . . . . . . . . . . . . .\n",
      " . . . . . . . . . . . . . . . . . . .\n",
      " . . . . . . . . . . . . . . . . . . .\n",
      " . . . . . . . . . . . . . . . . . . .\n",
      " . . . . . . . . . . . . . . . . . . .\n",
      " . . 1 . . . . . . . . . . . . . . . .\n",
      " . . . . . . . . . . . . . . . . . . .\n",
      " . . . . . . . . . . . . . . . . . . .\n"
     ]
    }
   ],
   "source": [
    "lib_after = get_liberties_after(liste[61])\n",
    "print(View(liste[60]))\n",
    "print(vis_layer(lib_after, 0))\n",
    "print(vis_layer(lib_after, 1))\n",
    "print(vis_layer(lib_after, 2))"
   ]
  },
  {
   "cell_type": "code",
   "execution_count": 83,
   "metadata": {
    "collapsed": false,
    "jupyter": {
     "outputs_hidden": false
    }
   },
   "outputs": [],
   "source": [
    "def get_sensibleness(state):\n",
    "    size = state._width\n",
    "    planes = np.ones((1, size, size))\n",
    "    for x,y in state._legal:\n",
    "        planes[0, x-1, y-1]=0\n",
    "    return planes"
   ]
  },
  {
   "cell_type": "code",
   "execution_count": 84,
   "metadata": {
    "collapsed": true,
    "jupyter": {
     "outputs_hidden": true
    }
   },
   "outputs": [
    {
     "name": "stdout",
     "output_type": "stream",
     "text": [
      "X . . . . . . . . . . . . . . . . . .\n",
      ". . . . . . . . * * * . . * . . . . .\n",
      ". . . o . . . * . * o * * o o . o . .\n",
      ". . o o * . . . * o o o . . . * o . .\n",
      ". . * . o . . . o . . . . . o o * * .\n",
      ". * . * o . . . . . . . . . . * o * .\n",
      ". . o * o . . . . . . . . . . . . . .\n",
      ". * * o . . . . . . . . . . . . * . .\n",
      ". * o o . . . . . . . . . . . . . . .\n",
      ". . * * . . . . . + . . . . . + o . .\n",
      ". o . . . . . . . . . . . . . . . . .\n",
      ". . . . . . . . . . . . . . . . . . .\n",
      ". . . . . . . . . . . . . . . . o . .\n",
      ". . o . . . . . . . . . . . . . . . .\n",
      ". . . . . . . . . . . . . . . . . . .\n",
      ". . o o . . . . . + . . . . . + * . .\n",
      ". . * . . . . . . . . . . * . . . . .\n",
      ". * . * . o . . . . . . . . . . . . .\n",
      ". . . . . . . . . . . . . . . . . . .\n",
      "\n",
      " 1 1 1 1 1 1 1 1 1 1 1 1 1 1 1 1 1 1 1\n",
      " 1 1 1 1 1 1 1 1 . . . 1 1 . 1 1 1 1 1\n",
      " 1 1 1 . 1 1 1 . . . . . . . . 1 . 1 1\n",
      " 1 1 . . . 1 1 1 . . . . 1 1 1 . . 1 1\n",
      " 1 1 . 1 . 1 1 1 . 1 1 1 1 1 . . . . 1\n",
      " 1 . 1 . . 1 1 1 1 1 1 1 1 1 1 . . . 1\n",
      " 1 1 . . . 1 1 1 1 1 1 1 1 1 1 1 1 1 1\n",
      " 1 . . . 1 1 1 1 1 1 1 1 1 1 1 1 . 1 1\n",
      " 1 . . . 1 1 1 1 1 1 1 1 1 1 1 1 1 1 1\n",
      " 1 1 . . 1 1 1 1 1 1 1 1 1 1 1 1 . 1 1\n",
      " 1 . 1 1 1 1 1 1 1 1 1 1 1 1 1 1 1 1 1\n",
      " 1 1 1 1 1 1 1 1 1 1 1 1 1 1 1 1 1 1 1\n",
      " 1 1 1 1 1 1 1 1 1 1 1 1 1 1 1 1 . 1 1\n",
      " 1 1 . 1 1 1 1 1 1 1 1 1 1 1 1 1 1 1 1\n",
      " 1 1 1 1 1 1 1 1 1 1 1 1 1 1 1 1 1 1 1\n",
      " 1 1 . . 1 1 1 1 1 1 1 1 1 1 1 1 . 1 1\n",
      " 1 1 . 1 1 1 1 1 1 1 1 1 1 . 1 1 1 1 1\n",
      " 1 . 1 . 1 . 1 1 1 1 1 1 1 1 1 1 1 1 1\n",
      " 1 1 1 1 1 1 1 1 1 1 1 1 1 1 1 1 1 1 1\n"
     ]
    }
   ],
   "source": [
    "sensibleness = get_sensibleness(liste[60])\n",
    "print(View(liste[60]))\n",
    "print(vis_layer(sensibleness, 0))\n",
    "print(vis_layer(sensibleness, 1))\n",
    "print(vis_layer(sensibleness, 2))"
   ]
  }
 ],
 "metadata": {
  "anaconda-cloud": {},
  "kernelspec": {
   "display_name": "Python 3",
   "language": "python",
   "name": "python3"
  },
  "language_info": {
   "codemirror_mode": {
    "name": "ipython",
    "version": 3
   },
   "file_extension": ".py",
   "mimetype": "text/x-python",
   "name": "python",
   "nbconvert_exporter": "python",
   "pygments_lexer": "ipython3",
   "version": "3.7.3"
  }
 },
 "nbformat": 4,
 "nbformat_minor": 4
}
